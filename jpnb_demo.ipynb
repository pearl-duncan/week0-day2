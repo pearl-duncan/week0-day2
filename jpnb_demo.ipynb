{
 "cells": [
  {
   "cell_type": "code",
   "execution_count": 1,
   "id": "bc824090",
   "metadata": {},
   "outputs": [
    {
     "name": "stdout",
     "output_type": "stream",
     "text": [
      "hello world!\n"
     ]
    }
   ],
   "source": [
    "print(\"hello world!\")"
   ]
  },
  {
   "cell_type": "markdown",
   "id": "0bc36716",
   "metadata": {},
   "source": [
    "## this is a header"
   ]
  },
  {
   "cell_type": "markdown",
   "id": "1ce9d81a",
   "metadata": {},
   "source": [
    "### lets talk about python today!!!"
   ]
  },
  {
   "cell_type": "code",
   "execution_count": 3,
   "id": "35cfaf7a",
   "metadata": {},
   "outputs": [],
   "source": [
    "x = 67"
   ]
  },
  {
   "cell_type": "code",
   "execution_count": 4,
   "id": "74a679d3",
   "metadata": {},
   "outputs": [
    {
     "name": "stdout",
     "output_type": "stream",
     "text": [
      "67\n"
     ]
    }
   ],
   "source": [
    "print(x)"
   ]
  },
  {
   "cell_type": "code",
   "execution_count": null,
   "id": "78c1a29a",
   "metadata": {},
   "outputs": [],
   "source": []
  }
 ],
 "metadata": {
  "kernelspec": {
   "display_name": "Python 3 (ipykernel)",
   "language": "python",
   "name": "python3"
  },
  "language_info": {
   "codemirror_mode": {
    "name": "ipython",
    "version": 3
   },
   "file_extension": ".py",
   "mimetype": "text/x-python",
   "name": "python",
   "nbconvert_exporter": "python",
   "pygments_lexer": "ipython3",
   "version": "3.11.4"
  }
 },
 "nbformat": 4,
 "nbformat_minor": 5
}
